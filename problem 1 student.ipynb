{
 "cells": [
  {
   "cell_type": "code",
   "execution_count": 1,
   "metadata": {},
   "outputs": [
    {
     "name": "stdout",
     "output_type": "stream",
     "text": [
      "What is your name? \n",
      "nikita\n",
      "How old are you? \n",
      "21\n",
      "Hello nikita. You are 21 years old. You will turn 45 years old in 2043.\n"
     ]
    }
   ],
   "source": [
    "name = input('What is your name? \\n')\n",
    "age = int(input('How old are you? \\n'))\n",
    "from datetime import datetime\n",
    "\n",
    "fortyfive = int((45-age) + datetime.now().year)\n",
    "print ('Hello %s. You are %s years old. You will turn 45 years old in %s.' % (name, age, fortyfive))"
   ]
  },
  {
   "cell_type": "code",
   "execution_count": 1,
   "metadata": {},
   "outputs": [],
   "source": [
    "sale= [220,102,254,147,123]\n",
    "profite = [778,452,569,415,445]"
   ]
  },
  {
   "cell_type": "code",
   "execution_count": 2,
   "metadata": {},
   "outputs": [],
   "source": [
    "import numpy as np"
   ]
  },
  {
   "cell_type": "code",
   "execution_count": 3,
   "metadata": {},
   "outputs": [
    {
     "data": {
      "text/plain": [
       "array([0.28277635, 0.22566372, 0.44639719, 0.35421687, 0.27640449])"
      ]
     },
     "execution_count": 3,
     "metadata": {},
     "output_type": "execute_result"
    }
   ],
   "source": [
    "np.array(sale)/np.array(profite)"
   ]
  }
 ],
 "metadata": {
  "kernelspec": {
   "display_name": "Python 3",
   "language": "python",
   "name": "python3"
  },
  "language_info": {
   "codemirror_mode": {
    "name": "ipython",
    "version": 3
   },
   "file_extension": ".py",
   "mimetype": "text/x-python",
   "name": "python",
   "nbconvert_exporter": "python",
   "pygments_lexer": "ipython3",
   "version": "3.7.3"
  }
 },
 "nbformat": 4,
 "nbformat_minor": 2
}
