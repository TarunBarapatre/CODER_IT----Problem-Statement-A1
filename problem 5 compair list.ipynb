{
 "cells": [
  {
   "cell_type": "code",
   "execution_count": 2,
   "metadata": {},
   "outputs": [],
   "source": [
    "list1 = [27,26,21,25,24,26,27,29,28,22,24,23]\n",
    "list2 = [23,24,25,25,27,29,28,22,22,26,25,24,24,21,23,25]\n",
    "res=[]"
   ]
  },
  {
   "cell_type": "code",
   "execution_count": 5,
   "metadata": {},
   "outputs": [
    {
     "name": "stdout",
     "output_type": "stream",
     "text": [
      "[27, 26, 21, 25, 24, 29, 28, 22, 23]\n"
     ]
    }
   ],
   "source": [
    " for x in list1:\n",
    "         for y in list2:\n",
    "            if x == y:\n",
    "                if x not in res:\n",
    "                    res.append(x)\n",
    "print(res)\n",
    "                "
   ]
  }
 ],
 "metadata": {
  "kernelspec": {
   "display_name": "Python 3",
   "language": "python",
   "name": "python3"
  },
  "language_info": {
   "codemirror_mode": {
    "name": "ipython",
    "version": 3
   },
   "file_extension": ".py",
   "mimetype": "text/x-python",
   "name": "python",
   "nbconvert_exporter": "python",
   "pygments_lexer": "ipython3",
   "version": "3.7.3"
  }
 },
 "nbformat": 4,
 "nbformat_minor": 2
}
