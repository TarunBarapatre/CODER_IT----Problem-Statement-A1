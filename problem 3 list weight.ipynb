{
 "cells": [
  {
   "cell_type": "code",
   "execution_count": 8,
   "metadata": {},
   "outputs": [],
   "source": [
    "name_weight= {'swapnil':55,'ram':45,'nikita':38,'pratik':53,'tarun':70,'shubham':59}"
   ]
  },
  {
   "cell_type": "code",
   "execution_count": 19,
   "metadata": {},
   "outputs": [
    {
     "name": "stdout",
     "output_type": "stream",
     "text": [
      "ram\n",
      "nikita\n",
      "you are not paticipate in wresting competition because weight is less than 50kg \n",
      " \n",
      "swapnil\n",
      "pratik\n",
      "tarun\n",
      "shubham\n",
      "you are paticipate in wresting competition because weight is grater than 50kg \n",
      " \n",
      "swapnil\n",
      "you are weight is better \n",
      " \n",
      "ram\n",
      "you are weight is good \n",
      " \n",
      "nikita\n",
      "you are weight is bad \n",
      " \n",
      "pratik\n",
      "you are weight is better \n",
      " \n",
      "tarun\n",
      "you are weight is best \n",
      " \n",
      "shubham\n",
      "you are weight is better \n",
      " \n"
     ]
    }
   ],
   "source": [
    "for i in name_weight:\n",
    "    if(name_weight[i]<50):\n",
    "        print(i)\n",
    "print('you are not paticipate in wresting competition because weight is less than 50kg \\n ')\n",
    "for j in name_weight:\n",
    "    if(name_weight[j]>50):\n",
    "        print(j)\n",
    "print('you are paticipate in wresting competition because weight is grater than 50kg \\n ')\n",
    "for h in name_weight:\n",
    "    if(name_weight[h]>60):\n",
    "        print(h)\n",
    "        print('you are weight is best \\n ')\n",
    "    if(name_weight[h]>50 and name_weight[h]<60):\n",
    "        print(h)\n",
    "        print('you are weight is better \\n ')\n",
    "    if(name_weight[h]>40 and name_weight[h]<50):\n",
    "        print(h)\n",
    "        print('you are weight is good \\n ')\n",
    "    if(name_weight[h]>30 and name_weight[h]<40):\n",
    "        print(h)\n",
    "        print('you are weight is bad \\n ')\n",
    "    if(name_weight[h]<20):\n",
    "        print(h)\n",
    "        print('you are weight is worse \\n ')"
   ]
  }
 ],
 "metadata": {
  "kernelspec": {
   "display_name": "Python 3",
   "language": "python",
   "name": "python3"
  },
  "language_info": {
   "codemirror_mode": {
    "name": "ipython",
    "version": 3
   },
   "file_extension": ".py",
   "mimetype": "text/x-python",
   "name": "python",
   "nbconvert_exporter": "python",
   "pygments_lexer": "ipython3",
   "version": "3.7.3"
  }
 },
 "nbformat": 4,
 "nbformat_minor": 2
}
